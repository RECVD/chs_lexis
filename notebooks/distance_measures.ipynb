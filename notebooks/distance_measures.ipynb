{
 "cells": [
  {
   "cell_type": "code",
   "execution_count": null,
   "metadata": {},
   "outputs": [],
   "source": [
    "import pandas as pd\n",
    "import matplotlib.pyplot as plt"
   ]
  },
  {
   "cell_type": "code",
   "execution_count": null,
   "metadata": {},
   "outputs": [],
   "source": [
    "import plotly\n",
    "from plotly.graph_objs import *\n",
    "from plotly.offline import *\n",
    "\n",
    "import cufflinks as cf"
   ]
  },
  {
   "cell_type": "markdown",
   "metadata": {},
   "source": [
    "# Checking Geocode Availability"
   ]
  },
  {
   "cell_type": "code",
   "execution_count": null,
   "metadata": {},
   "outputs": [],
   "source": [
    "geo_check = pd.read_csv(r\"C:\\Users\\jc4673\\Documents\\CHS_Lexis\\distance_measures\\chs_lexisnexis_distance_measures_2\\\\\n",
    "geocoding_success.csv\", usecols=['ssn_altkey', 'timeseries', 'has_geocode'])\n",
    "geo_check.rename(columns={'timeseries':'best_address_num'}, inplace=True)\n",
    "geo_check = geo_check[geo_check['best_address_num'] == 1]\n",
    "geo_check.set_index(['ssn_altkey'], inplace=True)"
   ]
  },
  {
   "cell_type": "code",
   "execution_count": null,
   "metadata": {},
   "outputs": [],
   "source": [
    "geo_check.head(10)"
   ]
  },
  {
   "cell_type": "markdown",
   "metadata": {},
   "source": [
    "# Best Address - Move Distance\n",
    "\n",
    "- lex_bestaddressmovedist*"
   ]
  },
  {
   "cell_type": "code",
   "execution_count": null,
   "metadata": {},
   "outputs": [],
   "source": [
    "ba_ba = pd.read_csv(r\"C:\\Users\\jc4673\\Documents\\CHS_Lexis\\distance_measures\\\n",
    "\\chs_lexisnexis_distance_measures_2\\lexis_address_best_geocode__lexis_address_best_geocode.csv\")"
   ]
  },
  {
   "cell_type": "code",
   "execution_count": null,
   "metadata": {},
   "outputs": [],
   "source": [
    "ba_ba['adjacent'] = ba_ba['dxid2'] - ba_ba['dxid1'] "
   ]
  },
  {
   "cell_type": "code",
   "execution_count": null,
   "metadata": {},
   "outputs": [],
   "source": [
    "ba_ba.head()"
   ]
  },
  {
   "cell_type": "code",
   "execution_count": null,
   "metadata": {},
   "outputs": [],
   "source": [
    "ba_move = ba_ba.loc[ba_ba['adjacent'] == 1, ['ssn_altkey', 'dxid1', 'dxid2', 'distance_spheroid_m']]\n",
    "ba_move['move_num'] = ba_move.groupby('ssn_altkey').cumcount()+1\n",
    "ba_move.set_index(['ssn_altkey', 'move_num'], inplace=True)"
   ]
  },
  {
   "cell_type": "markdown",
   "metadata": {},
   "source": [
    "## Long Version"
   ]
  },
  {
   "cell_type": "code",
   "execution_count": null,
   "metadata": {},
   "outputs": [],
   "source": [
    "ba_move.head(10)"
   ]
  },
  {
   "cell_type": "markdown",
   "metadata": {},
   "source": [
    "## Wide Version"
   ]
  },
  {
   "cell_type": "code",
   "execution_count": null,
   "metadata": {},
   "outputs": [],
   "source": [
    "ba_move['distance_spheroid_m'].unstack().head(10)"
   ]
  },
  {
   "cell_type": "markdown",
   "metadata": {},
   "source": [
    "# Best Address - Relatives\n",
    "\n",
    "* lex_bestaddresssame*rel_c\n",
    "\n",
    "Final d"
   ]
  },
  {
   "cell_type": "code",
   "execution_count": null,
   "metadata": {},
   "outputs": [],
   "source": [
    "ba_rel = pd.read_csv(r\"C:\\Users\\jc4673\\Documents\\CHS_Lexis\\distance_measures\\chs_lexisnexis_distance_measures_2\\\n",
    "\\lexis_address_best_geocode__lexis_address_rel_geocode.csv\")"
   ]
  },
  {
   "cell_type": "code",
   "execution_count": null,
   "metadata": {},
   "outputs": [],
   "source": [
    "ba_rel['zero'] = 0\n",
    "g = ba_rel.groupby(['ssn_altkey', 'timeseries1'])\n",
    "g2 = ba_rel[ba_rel['distance_spheroid_m'] == 0].groupby(['ssn_altkey', 'timeseries1'])"
   ]
  },
  {
   "cell_type": "code",
   "execution_count": null,
   "metadata": {},
   "outputs": [],
   "source": [
    "concordant_rel = g2.size().combine_first(g.first().zero)\n",
    "concordant_rel.index.names = ['ssn_altkey', 'best_address_num']\n",
    "concordant_rel.name = 'lex_bestaddresssame*rel_c'"
   ]
  },
  {
   "cell_type": "code",
   "execution_count": null,
   "metadata": {},
   "outputs": [],
   "source": [
    "concordant_rel.head(10)"
   ]
  },
  {
   "cell_type": "code",
   "execution_count": null,
   "metadata": {},
   "outputs": [],
   "source": [
    "unstacked = concordant_rel.unstack()\n",
    "unstacked.loc[unstacked[1].isnull()].join(geo_check)"
   ]
  },
  {
   "cell_type": "code",
   "execution_count": null,
   "metadata": {},
   "outputs": [],
   "source": [
    "concordant_rel.iplot(kind='histogram',\n",
    "                title='Frequency: Number of Relatives with Concordant Addresses')"
   ]
  },
  {
   "cell_type": "code",
   "execution_count": null,
   "metadata": {},
   "outputs": [],
   "source": [
    "concordant_rel.value_counts()"
   ]
  },
  {
   "cell_type": "markdown",
   "metadata": {},
   "source": [
    "# Best Address - Associates\n",
    "\n",
    "* lex_bestaddresssame*asso_c\n"
   ]
  },
  {
   "cell_type": "code",
   "execution_count": null,
   "metadata": {},
   "outputs": [],
   "source": [
    "ba_asso = pd.read_csv(r\"C:\\Users\\jc4673\\Documents\\CHS_Lexis\\distance_measures\\chs_lexisnexis_distance_measures_2\\\\\n",
    "lexis_address_best_geocode__lexis_address_asso_geocode.csv\")"
   ]
  },
  {
   "cell_type": "code",
   "execution_count": null,
   "metadata": {},
   "outputs": [],
   "source": [
    "ba_asso['zero'] = 0\n",
    "g_asso = ba_asso.groupby(['ssn_altkey', 'timeseries1'])\n",
    "g2_asso = ba_asso[ba_asso['distance_spheroid_m'] == 0].groupby(['ssn_altkey', 'timeseries1'])"
   ]
  },
  {
   "cell_type": "code",
   "execution_count": null,
   "metadata": {},
   "outputs": [],
   "source": [
    "concordant_asso = g2_asso.size().combine_first(g_asso.first().zero)\n",
    "concordant_asso.index.names = ['ssn_altkey', 'best_address_num']\n",
    "concordant_asso.name = 'lex_bestaddresssame*asso_c'"
   ]
  },
  {
   "cell_type": "code",
   "execution_count": null,
   "metadata": {},
   "outputs": [],
   "source": [
    "unstacked_asso = concordant_asso.unstack()\n",
    "unstacked_asso[unstacked_asso[1].isnull()].join(geo_check)"
   ]
  },
  {
   "cell_type": "code",
   "execution_count": null,
   "metadata": {},
   "outputs": [],
   "source": [
    "concordant_asso.iplot(kind='histogram',\n",
    "                title='Frequency: Number of Associates with Concordant Addresses')"
   ]
  }
 ],
 "metadata": {
  "kernelspec": {
   "display_name": "Python 3",
   "language": "python",
   "name": "python3"
  },
  "language_info": {
   "codemirror_mode": {
    "name": "ipython",
    "version": 3
   },
   "file_extension": ".py",
   "mimetype": "text/x-python",
   "name": "python",
   "nbconvert_exporter": "python",
   "pygments_lexer": "ipython3"
  }
 },
 "nbformat": 4,
 "nbformat_minor": 2
}
