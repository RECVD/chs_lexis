{
 "cells": [
  {
   "cell_type": "markdown",
   "metadata": {},
   "source": [
    "# Imports and Function Definitions"
   ]
  },
  {
   "cell_type": "code",
   "execution_count": null,
   "metadata": {},
   "outputs": [],
   "source": [
    "import pandas as pd\n",
    "\n",
    "import lexis_functions as lf"
   ]
  },
  {
   "cell_type": "code",
   "execution_count": null,
   "metadata": {},
   "outputs": [],
   "source": [
    "def diff_month(s1, s2):\n",
    "    s1year, s1month = s1.map(lambda x: x.year), s1.map(lambda x: x.month)\n",
    "    s2year, s2month = s2.map(lambda x: x.year), s2.map(lambda x: x.month)\n",
    "    \n",
    "    return (s2year - s1year) * 12 + s2month - s1month"
   ]
  },
  {
   "cell_type": "markdown",
   "metadata": {},
   "source": [
    "# Read in & Clean Data"
   ]
  },
  {
   "cell_type": "code",
   "execution_count": null,
   "metadata": {},
   "outputs": [],
   "source": [
    "try:\n",
    "    df = pd.read_csv(r\"O:\\LexisNexis\\LN_NOID_DATA\\original\\LN_Output_Address_RelAsso_LN_InputLexisNexisCHSParticipants.DatasetNSv2.csv\",\n",
    "                    index_col='ssn_altkey')\n",
    "except FileNotFoundError:\n",
    "    df = pd.read_csv(r\"C:\\Users\\jc4673\\Documents\\CHS_Lexis\\LexisNexis\\LN_NOID_DATA\\original\\LN_Output_Address_RelAsso_LN_InputLexisNexisCHSParticipants.DatasetNSv2.csv\",\n",
    "                    index_col='ssn_altkey')\n",
    "my_cols = ['yrdeath'] + [col for col in df.columns if '_seen' in col]\n",
    "df = df[my_cols].reset_index(drop=False)"
   ]
  },
  {
   "cell_type": "code",
   "execution_count": null,
   "metadata": {},
   "outputs": [],
   "source": [
    "df.head()"
   ]
  },
  {
   "cell_type": "code",
   "execution_count": null,
   "metadata": {},
   "outputs": [],
   "source": [
    "df_long = pd.wide_to_long(df, ['best_address_last_seen_', 'best_address_first_seen_'], i='ssn_altkey', j='num')\n",
    "df_long = df_long.sort_index().dropna(subset=['best_address_last_seen_', 'best_address_first_seen_'])\n",
    "df_long.columns = ['death', 'last_seen_date', 'first_seen_date']\n",
    "df_long['death'] = pd.to_datetime(df_long.death, format='%Y')"
   ]
  },
  {
   "cell_type": "code",
   "execution_count": null,
   "metadata": {},
   "outputs": [],
   "source": [
    "df_long = lf.convert_all_dates(df_long)"
   ]
  },
  {
   "cell_type": "code",
   "execution_count": null,
   "metadata": {},
   "outputs": [],
   "source": [
    "#Distribution of number of addresses\n",
    "df_long.reset_index(drop=False).num.value_counts()"
   ]
  },
  {
   "cell_type": "markdown",
   "metadata": {},
   "source": [
    "# Length of Stay at This Address\n",
    "\n",
    "lex_bestaddresslength*  \n"
   ]
  },
  {
   "cell_type": "code",
   "execution_count": null,
   "metadata": {},
   "outputs": [],
   "source": [
    "df_long['lex_bestaddresslength'] = diff_month(df_long.first_seen_date, df_long.last_seen_date)"
   ]
  },
  {
   "cell_type": "markdown",
   "metadata": {},
   "source": [
    "# Most recent address truncated by date of death if possible\n",
    "\n",
    "lex_best_address_correct - Boolean indicating whether the last seen for the most recent address is \"correct\" (it doesn't extend beyond the date of death)  \n",
    "\n",
    "lex_address_last_mod - Most recent date of death truncated by date of death if possible  \n",
    "\n",
    "**These are housed in a different dataframe than lex_bestaddresslength\\*, as it only applies to the most recent address and therefore each participant will have only one entry**"
   ]
  },
  {
   "cell_type": "code",
   "execution_count": null,
   "metadata": {},
   "outputs": [],
   "source": [
    "df_last = df_long.groupby(level=0).last()\n",
    "\n",
    "df_last['best_address_last_correct'] = df_last['last_seen_date'] < df_last['death']\n",
    "df_last.head()"
   ]
  },
  {
   "cell_type": "code",
   "execution_count": null,
   "metadata": {},
   "outputs": [],
   "source": [
    "# This is somewhat concerning\n",
    "df_last.best_address_last_correct.value_counts()"
   ]
  },
  {
   "cell_type": "code",
   "execution_count": null,
   "metadata": {},
   "outputs": [],
   "source": [
    "df_last['lex_address_last_mod'] = df_last['last_seen_date']"
   ]
  },
  {
   "cell_type": "code",
   "execution_count": null,
   "metadata": {},
   "outputs": [],
   "source": [
    "df_last.loc[df_last['best_address_last_correct'] == False, 'lex_address_last_mod'] = df_last['death']"
   ]
  },
  {
   "cell_type": "code",
   "execution_count": null,
   "metadata": {},
   "outputs": [],
   "source": [
    "df_last.head()"
   ]
  },
  {
   "cell_type": "markdown",
   "metadata": {},
   "source": [
    "# Write to CSV"
   ]
  },
  {
   "cell_type": "code",
   "execution_count": null,
   "metadata": {},
   "outputs": [],
   "source": [
    "df_long['lex_bestaddresslength'].to_frame().to_csv(\n",
    "    r\"C:\\Users\\jc4673\\Documents\\CHS_Lexis\\LexisNexis\\LN_NOID_DATA\\derived\\best_address_length_months.csv\")"
   ]
  },
  {
   "cell_type": "code",
   "execution_count": null,
   "metadata": {},
   "outputs": [],
   "source": [
    "df_last[['best_address_last_correct', 'lex_address_last_mod']].to_csv(\n",
    "    r\"C:\\Users\\jc4673\\Documents\\CHS_Lexis\\LexisNexis\\LN_NOID_DATA\\derived\\best_address_trunc_death.csv\")"
   ]
  },
  {
   "cell_type": "code",
   "execution_count": null,
   "metadata": {},
   "outputs": [],
   "source": []
  }
 ],
 "metadata": {
  "kernelspec": {
   "display_name": "Python [conda env:py365]",
   "language": "python",
   "name": "conda-env-py365-py"
  },
  "language_info": {
   "codemirror_mode": {
    "name": "ipython",
    "version": 3
   },
   "file_extension": ".py",
   "mimetype": "text/x-python",
   "name": "python",
   "nbconvert_exporter": "python",
   "pygments_lexer": "ipython3"
  }
 },
 "nbformat": 4,
 "nbformat_minor": 2
}
