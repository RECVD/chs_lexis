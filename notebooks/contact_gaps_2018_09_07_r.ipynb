{
 "cells": [
  {
   "cell_type": "code",
   "execution_count": null,
   "metadata": {},
   "outputs": [],
   "source": [
    "library(tidyverse)\n",
    "library(haven)\n",
    "library(lubridate)"
   ]
  },
  {
   "cell_type": "markdown",
   "metadata": {},
   "source": [
    "# Read and Tidy Address Data"
   ]
  },
  {
   "cell_type": "code",
   "execution_count": null,
   "metadata": {},
   "outputs": [],
   "source": [
    "add <- read_csv(str_c(\"C:\\\\Users\\\\jc4673\\\\Documents\\\\Columbia\\\\CHS_Lexis\\\\distance_measures\\\\\",\n",
    "\"chs_lexisnexis_distance_measures_2\\\\chs_addresses_geocode__chs_addresses_geocode.csv\"), \n",
    "                col_types = cols_only(ssn_altkey = \"c\",\n",
    "                                     yrdeath = \"i\",\n",
    "                                     dxid1 = \"i\",\n",
    "                                     dxid2 = \"i\",\n",
    "                                     chs_entrydate1 = col_date(),\n",
    "                                     chs_entrydate2 = col_date()\n",
    "                                     ))"
   ]
  },
  {
   "cell_type": "code",
   "execution_count": null,
   "metadata": {},
   "outputs": [],
   "source": [
    "print(add)"
   ]
  },
  {
   "cell_type": "code",
   "execution_count": null,
   "metadata": {},
   "outputs": [],
   "source": [
    "    # Separate table for year of death\n",
    "    yrdeath <- add %>%\n",
    "        select(ssn_altkey, yrdeath) %>%\n",
    "        distinct()\n",
    "\n",
    "    # Separate tables for id1 & id2, to be joined later on\n",
    "    id1 <- add %>%\n",
    "        select(ssn_altkey, dxid1, chs_entrydate1) %>%\n",
    "        distinct() %>%\n",
    "        rename(id = dxid1, chs_entrydate = chs_entrydate1)\n",
    "\n",
    "    id2 <- add %>%\n",
    "        select(ssn_altkey, dxid2, chs_entrydate2) %>%\n",
    "        distinct() %>%\n",
    "        rename(id = dxid2, chs_entrydate = chs_entrydate2)\n",
    "\n",
    "    # Tidy version of address start dates\n",
    "    tidy_entry <- bind_rows(id1, id2) %>%\n",
    "        distinct() %>%\n",
    "        select(-id) %>%\n",
    "        group_by(ssn_altkey) %>%\n",
    "        mutate(id = row_number()) %>%\n",
    "        arrange(ssn_altkey, id) %>%\n",
    "        select(ssn_altkey, id, chs_entrydate)"
   ]
  },
  {
   "cell_type": "code",
   "execution_count": null,
   "metadata": {},
   "outputs": [],
   "source": [
    "print(tidy_entry)"
   ]
  },
  {
   "cell_type": "markdown",
   "metadata": {},
   "source": [
    "# Contact Date Data"
   ]
  },
  {
   "cell_type": "code",
   "execution_count": null,
   "metadata": {},
   "outputs": [],
   "source": [
    "df <- read_dta(\"C:\\\\Users\\\\jc4673\\\\Documents\\\\Data\\\\CHS\\\\contactsbyalt_keywdates.dta\")"
   ]
  },
  {
   "cell_type": "code",
   "execution_count": null,
   "metadata": {},
   "outputs": [],
   "source": [
    "glimpse(df)"
   ]
  },
  {
   "cell_type": "code",
   "execution_count": null,
   "metadata": {},
   "outputs": [],
   "source": [
    "head(df)"
   ]
  },
  {
   "cell_type": "code",
   "execution_count": null,
   "metadata": {},
   "outputs": [],
   "source": [
    "df <- df %>%\n",
    "    group_by(ssn_altkey) %>%\n",
    "    mutate(next_date = lead(contactdate),\n",
    "          gap = next_date - contactdate) %>%\n",
    "    na.omit %>%\n",
    "    select(ssn_altkey, contactdate, next_date, gap) #%>%\n",
    "    #arrange(ssn_altkey, contactdate)"
   ]
  },
  {
   "cell_type": "code",
   "execution_count": null,
   "metadata": {},
   "outputs": [],
   "source": [
    "glimpse(df)"
   ]
  },
  {
   "cell_type": "code",
   "execution_count": null,
   "metadata": {},
   "outputs": [],
   "source": [
    "print(df)"
   ]
  },
  {
   "cell_type": "code",
   "execution_count": null,
   "metadata": {},
   "outputs": [],
   "source": [
    "ggplot(df, aes(x = gap, y = ..density..)) +\n",
    " geom_histogram()"
   ]
  },
  {
   "cell_type": "markdown",
   "metadata": {},
   "source": [
    "This makes it kind of hard to see.  Let's split data into before and after the point we're interested in: **1 year**"
   ]
  },
  {
   "cell_type": "code",
   "execution_count": null,
   "metadata": {},
   "outputs": [],
   "source": [
    "l_1yr <- filter(df, gap <= days(400))\n",
    "g_1yr <- filter(df, gap > days(400))"
   ]
  },
  {
   "cell_type": "code",
   "execution_count": null,
   "metadata": {},
   "outputs": [],
   "source": [
    "glimpse(l_1yr)"
   ]
  },
  {
   "cell_type": "code",
   "execution_count": null,
   "metadata": {},
   "outputs": [],
   "source": [
    "glimpse(g_1yr)"
   ]
  },
  {
   "cell_type": "code",
   "execution_count": null,
   "metadata": {},
   "outputs": [],
   "source": [
    "ggplot(l_1yr, aes(x = gap)) +\n",
    " geom_histogram()"
   ]
  },
  {
   "cell_type": "code",
   "execution_count": null,
   "metadata": {},
   "outputs": [],
   "source": [
    "ggplot(g_1yr, aes(x = gap)) +\n",
    " geom_histogram()"
   ]
  },
  {
   "cell_type": "code",
   "execution_count": null,
   "metadata": {},
   "outputs": [],
   "source": []
  }
 ],
 "metadata": {
  "kernelspec": {
   "display_name": "R",
   "language": "R",
   "name": "ir"
  },
  "language_info": {
   "codemirror_mode": "r",
   "file_extension": ".r",
   "mimetype": "text/x-r-source",
   "name": "R",
   "pygments_lexer": "r"
  }
 },
 "nbformat": 4,
 "nbformat_minor": 1
}
