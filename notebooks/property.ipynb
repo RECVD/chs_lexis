{
 "cells": [
  {
   "cell_type": "code",
   "execution_count": null,
   "metadata": {},
   "outputs": [],
   "source": [
    "import pandas as pd"
   ]
  },
  {
   "cell_type": "code",
   "execution_count": null,
   "metadata": {},
   "outputs": [],
   "source": [
    "df = pd.read_csv(r\"C:\\Users\\jc4673\\Documents\\CHS_Lexis\\\n",
    "\\LexisNexis\\LN_NOID_DATA\\original\\LN_Output_Property_LN_InputLexisNexisCHSParticipantsNS.Dataset.csv\", index_col='ssn_altkey')\n",
    "df.drop(columns=[col for col in df.columns if 'Prop-city' not in col], inplace=True)\n",
    "df.fillna(0, inplace=True)\n",
    "df = df.astype(bool).astype(int)"
   ]
  },
  {
   "cell_type": "code",
   "execution_count": null,
   "metadata": {},
   "outputs": [],
   "source": [
    "df['lex_propertyown_c'] = df.apply(sum, axis=1)\n",
    "df.drop(columns=['Prop-city_1', 'Prop-city_2', 'Prop-city_3', 'Prop-city_4', 'Prop-city_5'], inplace=True)"
   ]
  },
  {
   "cell_type": "code",
   "execution_count": null,
   "metadata": {},
   "outputs": [],
   "source": [
    "df.to_csv(r\"C:\\Users\\jc4673\\Documents\\CHS_Lexis\\LexisNexis\\LN_NOID_DATA\\derived\\lex_propertyown_c.csv\")"
   ]
  },
  {
   "cell_type": "code",
   "execution_count": null,
   "metadata": {},
   "outputs": [],
   "source": []
  }
 ],
 "metadata": {
  "kernelspec": {
   "display_name": "Python [conda env:py365]",
   "language": "python",
   "name": "conda-env-py365-py"
  },
  "language_info": {
   "codemirror_mode": {
    "name": "ipython",
    "version": 3
   },
   "file_extension": ".py",
   "mimetype": "text/x-python",
   "name": "python",
   "nbconvert_exporter": "python",
   "pygments_lexer": "ipython3"
  }
 },
 "nbformat": 4,
 "nbformat_minor": 2
}
