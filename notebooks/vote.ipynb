{
 "cells": [
  {
   "cell_type": "code",
   "execution_count": null,
   "metadata": {},
   "outputs": [],
   "source": [
    "import numpy as np\n",
    "\n",
    "import pandas as pd\n",
    "import lexis_functions as lf"
   ]
  },
  {
   "cell_type": "markdown",
   "metadata": {},
   "source": [
    "# Read in Data"
   ]
  },
  {
   "cell_type": "code",
   "execution_count": null,
   "metadata": {},
   "outputs": [],
   "source": [
    "df_full = pd.read_csv(r\"C:/Users/jc4673/Documents/Columbia/CHS_Lexis/LexisNexis/LN_NOID_DATA/\\\n",
    "LN_Output_Voter_LN_InputLexisNexisCHSParticipantsNS.Dataset.csv\",\n",
    "                index_col=['ssn_altkey'])"
   ]
  },
  {
   "cell_type": "code",
   "execution_count": null,
   "metadata": {},
   "outputs": [],
   "source": [
    "check = lambda x: 'special' in x or 'primary' in x or 'other' in x or 'general' in x or 'pres' in x"
   ]
  },
  {
   "cell_type": "code",
   "execution_count": null,
   "metadata": {},
   "outputs": [],
   "source": [
    "# Segment to relevant categories\n",
    "df = df_full[[x for x in df_full.columns.tolist() if check(x)]]\n",
    "df.head()"
   ]
  },
  {
   "cell_type": "code",
   "execution_count": null,
   "metadata": {},
   "outputs": [],
   "source": [
    "# Remove any completely empty columns\n",
    "for col in df.columns.tolist():\n",
    "    if not df[col].any():\n",
    "        del df[col]"
   ]
  },
  {
   "cell_type": "code",
   "execution_count": null,
   "metadata": {},
   "outputs": [],
   "source": [
    "# Replace all non NaN values with 1, all NaN values with 0\n",
    "df.replace(np.nan, 0, inplace=True)\n",
    "df.replace(['Y', 'R', 'D', 'A', 'E', 'P', 'M', 'Q', 'U'], 1, inplace=True)\n",
    "df = df.astype('int64')\n",
    "\n",
    "df = df.groupby(level=0) \\\n",
    "    .last()"
   ]
  },
  {
   "cell_type": "markdown",
   "metadata": {},
   "source": [
    "# Count of Total times Voted"
   ]
  },
  {
   "cell_type": "code",
   "execution_count": null,
   "metadata": {},
   "outputs": [],
   "source": [
    "total_votes = df.apply(sum, axis=1).rename('lex_votetotal_c')"
   ]
  },
  {
   "cell_type": "markdown",
   "metadata": {},
   "source": [
    "# Count of Primary Election Votes"
   ]
  },
  {
   "cell_type": "code",
   "execution_count": null,
   "metadata": {},
   "outputs": [],
   "source": [
    "prim = df[[x for x in df.columns.tolist() if 'primary' in x]]\n",
    "prim_votes = prim.apply(sum, axis=1).rename('lex_voteprim_c')"
   ]
  },
  {
   "cell_type": "markdown",
   "metadata": {},
   "source": [
    "# Count of General Election Votes"
   ]
  },
  {
   "cell_type": "code",
   "execution_count": null,
   "metadata": {},
   "outputs": [],
   "source": [
    "gen = df[[x for x in df.columns.tolist() if 'general' in x]]\n",
    "gen_votes = gen.apply(sum, axis=1).rename('lex_votegen_c')"
   ]
  },
  {
   "cell_type": "markdown",
   "metadata": {},
   "source": [
    "# Count of Presidential Election Votes"
   ]
  },
  {
   "cell_type": "code",
   "execution_count": null,
   "metadata": {},
   "outputs": [],
   "source": [
    "pres = df[[x for x in df.columns.tolist() if 'pres' in x]]\n",
    "pres_votes = pres.apply(sum, axis=1).rename('lex_votepres_c')"
   ]
  },
  {
   "cell_type": "markdown",
   "metadata": {},
   "source": [
    "# Death Vote\n",
    "Of 9,802 participants, 3,914 voted (40%)\n",
    "\n",
    "**2791 participants are recorded as voting after deceased**\n",
    "\n",
    "This corresponds to 28.5% of total participants  \n",
    "This corresponds to 71.3% of participants that voted"
   ]
  },
  {
   "cell_type": "code",
   "execution_count": null,
   "metadata": {},
   "outputs": [],
   "source": [
    "datecols = ['yrdeath', 'voted_year_1'] \n",
    "death = df_full.groupby(level=0).last()[datecols]\n",
    "death.columns = ['yrdeath', 'most_recent_vote']\n",
    "death['lex_deathvote'] = death['yrdeath'] > death['most_recent_vote']"
   ]
  },
  {
   "cell_type": "code",
   "execution_count": null,
   "metadata": {},
   "outputs": [],
   "source": [
    "len(death)"
   ]
  },
  {
   "cell_type": "code",
   "execution_count": null,
   "metadata": {},
   "outputs": [],
   "source": [
    "death.lex_deathvote.value_counts()"
   ]
  },
  {
   "cell_type": "code",
   "execution_count": null,
   "metadata": {},
   "outputs": [],
   "source": [
    "# Now check number of total persons that voted\n",
    "len(death.most_recent_vote.dropna())"
   ]
  },
  {
   "cell_type": "markdown",
   "metadata": {},
   "source": [
    "# Combine and Write to File"
   ]
  },
  {
   "cell_type": "code",
   "execution_count": null,
   "metadata": {},
   "outputs": [],
   "source": [
    "combined = pd.concat([total_votes, prim_votes, gen_votes, pres_votes, death], axis=1)"
   ]
  },
  {
   "cell_type": "code",
   "execution_count": null,
   "metadata": {},
   "outputs": [],
   "source": [
    "combined.head()"
   ]
  },
  {
   "cell_type": "code",
   "execution_count": null,
   "metadata": {},
   "outputs": [],
   "source": [
    "combined.to_csv(r\"C:\\Users\\jc4673\\Documents\\Columbia\\CHS_Lexis\\LexisNexis\\derived_vars\\derived\\voter_derived.csv\")"
   ]
  },
  {
   "cell_type": "code",
   "execution_count": null,
   "metadata": {},
   "outputs": [],
   "source": []
  }
 ],
 "metadata": {
  "kernelspec": {
   "display_name": "Python [conda env:py365]",
   "language": "python",
   "name": "conda-env-py365-py"
  },
  "language_info": {
   "codemirror_mode": {
    "name": "ipython",
    "version": 3
   },
   "file_extension": ".py",
   "mimetype": "text/x-python",
   "name": "python",
   "nbconvert_exporter": "python",
   "pygments_lexer": "ipython3"
  }
 },
 "nbformat": 4,
 "nbformat_minor": 1
}
