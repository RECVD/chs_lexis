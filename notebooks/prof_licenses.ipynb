{
 "cells": [
  {
   "cell_type": "markdown",
   "metadata": {},
   "source": [
    "#  Imports"
   ]
  },
  {
   "cell_type": "code",
   "execution_count": null,
   "metadata": {},
   "outputs": [],
   "source": [
    "import pandas as pd\n",
    "\n",
    "import lexis_functions as lf"
   ]
  },
  {
   "cell_type": "markdown",
   "metadata": {},
   "source": [
    "# Read in / Clean Data"
   ]
  },
  {
   "cell_type": "code",
   "execution_count": null,
   "metadata": {},
   "outputs": [],
   "source": [
    "# Read in and drop the several hundred duplicates\n",
    "df = pd.read_csv(r\"O:\\LexisNexis\\LN_NOID_DATA\\original\\LN_Output_ProfLicenses_LN_InputLexisNexisCHSParticipantsNS.Dataset.csv\")\n",
    "df.drop_duplicates(inplace=True)"
   ]
  },
  {
   "cell_type": "code",
   "execution_count": null,
   "metadata": {},
   "outputs": [],
   "source": [
    "df"
   ]
  },
  {
   "cell_type": "code",
   "execution_count": null,
   "metadata": {},
   "outputs": [],
   "source": [
    "# Conver the dates from the weird format to datetime.date\n",
    "df = lf.convert_all_dates(df)"
   ]
  },
  {
   "cell_type": "markdown",
   "metadata": {},
   "source": [
    "# Total Count of Professional Licenses\n",
    "\n",
    "lex_professional_c"
   ]
  },
  {
   "cell_type": "code",
   "execution_count": null,
   "metadata": {},
   "outputs": [],
   "source": [
    "# Create a series for numlicenses with index 'ssn_altkey', one row per participant.\n",
    "# Index will not match up with original data file, which had at least one record per participant, with more\n",
    "# existing in the case of multiple licenses \n",
    "\n",
    "license_present = df.loc[df.iloc[:, 5:].dropna(how='all').index].groupby('ssn_altkey').size()\n",
    "lex_professional_c = license_present.combine_first(df.groupby('ssn_altkey').size() - 1).astype('int64')"
   ]
  },
  {
   "cell_type": "markdown",
   "metadata": {},
   "source": [
    "# Presence of Any Professional Licenses\n",
    "\n",
    "lex_professional_any"
   ]
  },
  {
   "cell_type": "code",
   "execution_count": null,
   "metadata": {},
   "outputs": [],
   "source": [
    "lex_professional_any = (lex_professional_c > 0)"
   ]
  },
  {
   "cell_type": "markdown",
   "metadata": {},
   "source": [
    "# Combined"
   ]
  },
  {
   "cell_type": "code",
   "execution_count": null,
   "metadata": {},
   "outputs": [],
   "source": [
    "derived_professional = pd.concat([lex_professional_any, lex_professional_c], axis=1)\n",
    "derived_professional.columns = ['lex_professional_any', 'lex_professional_c']\n",
    "derived_professional.head()"
   ]
  },
  {
   "cell_type": "code",
   "execution_count": null,
   "metadata": {},
   "outputs": [],
   "source": [
    "derived_professional.to_csv(r\"O:\\LexisNexis\\LN_NOID_DATA\\derived\\professional_licenses_derived.csv\")"
   ]
  }
 ],
 "metadata": {
  "kernelspec": {
   "display_name": "Python [conda env:py365]",
   "language": "python",
   "name": "conda-env-py365-py"
  },
  "language_info": {
   "codemirror_mode": {
    "name": "ipython",
    "version": 3
   },
   "file_extension": ".py",
   "mimetype": "text/x-python",
   "name": "python",
   "nbconvert_exporter": "python",
   "pygments_lexer": "ipython3"
  }
 },
 "nbformat": 4,
 "nbformat_minor": 1
}
