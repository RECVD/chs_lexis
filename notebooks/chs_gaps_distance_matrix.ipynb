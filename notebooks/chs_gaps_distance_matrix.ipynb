{
 "cells": [
  {
   "cell_type": "code",
   "execution_count": null,
   "metadata": {},
   "outputs": [],
   "source": [
    "import pandas as pd\n",
    "import datetime as dt"
   ]
  },
  {
   "cell_type": "markdown",
   "metadata": {},
   "source": [
    "# Contact Gaps"
   ]
  },
  {
   "cell_type": "code",
   "execution_count": null,
   "metadata": {},
   "outputs": [],
   "source": [
    "chs = pd.read_stata(r\"C:\\Users\\jc4673\\Documents\\CHS_Lexis\\contactsbyalt_key.dta\")\n",
    "date_death = pd.read_csv(r\"C:\\Users\\jc4673\\Documents\\CHS_Lexis\\LexisNexis\\LN_NOID_DATA\\original\" +\n",
    "    r\"\\LN_Output_Voter_LN_InputLexisNexisCHSParticipantsNS.Dataset.csv\", usecols=['ssn_altkey', 'yrdeath'])\n",
    "del chs['ttolastcontact']"
   ]
  },
  {
   "cell_type": "markdown",
   "metadata": {},
   "source": [
    "# Join in Contact Dates from Addresses"
   ]
  },
  {
   "cell_type": "code",
   "execution_count": null,
   "metadata": {},
   "outputs": [],
   "source": [
    "chs_address = pd.read_csv(r\"C:\\Users\\jc4673\\Documents\\CHS_Lexis\\distance_measures\\chs_lexisnexis_distance_measures_2\\\n",
    "\\chs_addresses_geocode__chs_addresses_geocode.csv\", usecols=['ssn_altkey', 'dxid1', 'dxid2','chs_entrydate1', 'chs_entrydate2'])"
   ]
  },
  {
   "cell_type": "code",
   "execution_count": null,
   "metadata": {},
   "outputs": [],
   "source": [
    "start_date = chs_address.groupby(\"ssn_altkey\").first().reset_index(drop=False)\n",
    "merged = chs.merge(start_date[['ssn_altkey', 'chs_entrydate1']], on=['ssn_altkey'], how='inner')\n",
    "merged['chs_entrydate1'] = pd.to_datetime(merged['chs_entrydate1'])"
   ]
  },
  {
   "cell_type": "code",
   "execution_count": null,
   "metadata": {},
   "outputs": [],
   "source": [
    "merged['ttocontact'] = pd.to_timedelta(merged['ttocontact'], unit='D')\n",
    "merged['contact_date'] = merged['chs_entrydate1'] + merged['ttocontact']\n",
    "del merged['chs_entrydate1']"
   ]
  },
  {
   "cell_type": "code",
   "execution_count": null,
   "metadata": {},
   "outputs": [],
   "source": [
    "merged['gap_before'] = merged.ttocontact - merged.groupby('ssn_altkey').ttocontact.shift(1)"
   ]
  },
  {
   "cell_type": "code",
   "execution_count": null,
   "metadata": {},
   "outputs": [],
   "source": [
    "merged"
   ]
  },
  {
   "cell_type": "markdown",
   "metadata": {},
   "source": [
    "# Create Address Table"
   ]
  },
  {
   "cell_type": "code",
   "execution_count": null,
   "metadata": {},
   "outputs": [],
   "source": [
    "chs_address_1 = chs_address[['ssn_altkey', 'dxid1', 'chs_entrydate1']]\n",
    "chs_address_2 = chs_address[['ssn_altkey', 'dxid2', 'chs_entrydate2']].dropna(how='any')"
   ]
  },
  {
   "cell_type": "code",
   "execution_count": null,
   "metadata": {},
   "outputs": [],
   "source": [
    "chs_address_1 = chs_address_1.drop_duplicates().rename(columns={\"dxid1\": \"dxid\", \"chs_entrydate1\": \"chs_entrydate\"}).set_index(['ssn_altkey', 'dxid'])\n",
    "chs_address_2 = chs_address_2.drop_duplicates().rename(columns={\"dxid2\": \"dxid\", \"chs_entrydate2\": \"chs_entrydate\"}).set_index(['ssn_altkey', 'dxid'])"
   ]
  },
  {
   "cell_type": "code",
   "execution_count": null,
   "metadata": {},
   "outputs": [],
   "source": [
    "address_dates = chs_address_1.combine_first(chs_address_2).reset_index(drop=False)"
   ]
  },
  {
   "cell_type": "code",
   "execution_count": null,
   "metadata": {},
   "outputs": [],
   "source": [
    "address_dates.reset_index(inplace=True)\n",
    "del address_dates['dxid']\n",
    "address_dates['index'] = address_dates.groupby('ssn_altkey').cumcount()\n",
    "address_dates['chs_entrydate'] = pd.to_datetime(address_dates['chs_entrydate'])"
   ]
  },
  {
   "cell_type": "code",
   "execution_count": null,
   "metadata": {},
   "outputs": [],
   "source": [
    "address_dates_wide = address_dates.pivot(index='ssn_altkey', columns='index', values='chs_entrydate')"
   ]
  },
  {
   "cell_type": "code",
   "execution_count": null,
   "metadata": {},
   "outputs": [],
   "source": []
  }
 ],
 "metadata": {
  "kernelspec": {
   "display_name": "Python 3",
   "language": "python",
   "name": "python3"
  },
  "language_info": {
   "codemirror_mode": {
    "name": "ipython",
    "version": 3
   },
   "file_extension": ".py",
   "mimetype": "text/x-python",
   "name": "python",
   "nbconvert_exporter": "python",
   "pygments_lexer": "ipython3"
  }
 },
 "nbformat": 4,
 "nbformat_minor": 2
}
